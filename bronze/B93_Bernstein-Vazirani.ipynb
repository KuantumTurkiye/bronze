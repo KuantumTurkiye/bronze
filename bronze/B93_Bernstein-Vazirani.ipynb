{
 "cells": [
  {
   "cell_type": "markdown",
   "metadata": {},
   "source": [
    "<table>\n",
    "    <tr><td align=\"right\" style=\"background-color:#ffffff;\">\n",
    "        <img src=\"../images/logot.png\" width=\"20%\" align=\"right\">\n",
    "    </td></tr>\n",
    "    <tr><td align=\"right\" style=\"color:#777777;background-color:#ffffff;font-size:12px;\">\n",
    "        Prepared by Berat Yenilen <br>\n",
    "        Edited by Utku Birkan, Arda Çınar, Özlem Salehi | May 8, 2020<br>\n",
    "    </td></tr>\n",
    "    <tr><td align=\"right\" style=\"color:#bbbbbb;background-color:#ffffff;font-size:11px;font-style:italic;\">\n",
    "        This cell contains some macros. If there is a problem with displaying mathematical formulas, please run this cell to load these macros.\n",
    "    </td></tr>\n",
    "</table>\n",
    "$ \\newcommand{\\bra}[1]{\\langle #1|} $\n",
    "$ \\newcommand{\\ket}[1]{|#1\\rangle} $\n",
    "$ \\newcommand{\\braket}[2]{\\langle #1|#2\\rangle} $\n",
    "$ \\newcommand{\\dot}[2]{ #1 \\cdot #2} $\n",
    "$ \\newcommand{\\biginner}[2]{\\left\\langle #1,#2\\right\\rangle} $\n",
    "$ \\newcommand{\\mymatrix}[2]{\\left( \\begin{array}{#1} #2\\end{array} \\right)} $\n",
    "$ \\newcommand{\\myvector}[1]{\\mymatrix{c}{#1}} $\n",
    "$ \\newcommand{\\myrvector}[1]{\\mymatrix{r}{#1}} $\n",
    "$ \\newcommand{\\mypar}[1]{\\left( #1 \\right)} $\n",
    "$ \\newcommand{\\mybigpar}[1]{ \\Big( #1 \\Big)} $\n",
    "$ \\newcommand{\\sqrttwo}{\\frac{1}{\\sqrt{2}}} $\n",
    "$ \\newcommand{\\dsqrttwo}{\\dfrac{1}{\\sqrt{2}}} $\n",
    "$ \\newcommand{\\onehalf}{\\frac{1}{2}} $\n",
    "$ \\newcommand{\\donehalf}{\\dfrac{1}{2}} $\n",
    "$ \\newcommand{\\hadamard}{ \\mymatrix{rr}{ \\sqrttwo & \\sqrttwo \\\\ \\sqrttwo & -\\sqrttwo }} $\n",
    "$ \\newcommand{\\vzero}{\\myvector{1\\\\0}} $\n",
    "$ \\newcommand{\\vone}{\\myvector{0\\\\1}} $\n",
    "$ \\newcommand{\\vhadamardzero}{\\myvector{ \\sqrttwo \\\\  \\sqrttwo } } $\n",
    "$ \\newcommand{\\vhadamardone}{ \\myrvector{ \\sqrttwo \\\\ -\\sqrttwo } } $\n",
    "$ \\newcommand{\\myarray}[2]{ \\begin{array}{#1}#2\\end{array}} $\n",
    "$ \\newcommand{\\X}{ \\mymatrix{cc}{0 & 1 \\\\ 1 & 0}  } $\n",
    "$ \\newcommand{\\Z}{ \\mymatrix{rr}{1 & 0 \\\\ 0 & -1}  } $\n",
    "$ \\newcommand{\\Htwo}{ \\mymatrix{rrrr}{ \\frac{1}{2} & \\frac{1}{2} & \\frac{1}{2} & \\frac{1}{2} \\\\ \\frac{1}{2} & -\\frac{1}{2} & \\frac{1}{2} & -\\frac{1}{2} \\\\ \\frac{1}{2} & \\frac{1}{2} & -\\frac{1}{2} & -\\frac{1}{2} \\\\ \\frac{1}{2} & -\\frac{1}{2} & -\\frac{1}{2} & \\frac{1}{2} } } $\n",
    "$ \\newcommand{\\CNOT}{ \\mymatrix{cccc}{1 & 0 & 0 & 0 \\\\ 0 & 1 & 0 & 0 \\\\ 0 & 0 & 0 & 1 \\\\ 0 & 0 & 1 & 0} } $\n",
    "$ \\newcommand{\\norm}[1]{ \\left\\lVert #1 \\right\\rVert } $"
   ]
  },
  {
   "cell_type": "markdown",
   "metadata": {},
   "source": [
    "<h2> Bernstein-Vazirani Algorithm </h2>"
   ]
  },
  {
   "cell_type": "markdown",
   "metadata": {},
   "source": [
    "Let $\\textbf{x} \\cdot \\textbf{s}$ represent the inner product of the bit strings modulo 2. \n",
    "\n",
    "For instance if $x = 1000$ and $s = 1010$, then $x\\cdot s = 1.1 + 0.0 + 0.1 + 0.0 = 1 \\pmod 2 = 1$"
   ]
  },
  {
   "cell_type": "markdown",
   "metadata": {},
   "source": [
    "<b>Problem:</b> Given an oracle function $f:\\{0,1\\}^n \\rightarrow \\{0,1\\}$, which is defined as $ f(\\mathbf{x}) = \\mathbf{x} \\cdot \\mathbf{s} $, find the string $\\mathbf{s}$.\n",
    "\n",
    "\n",
    "This might come across as a bit of an artificially created problem, because it is. It was specifically designed to be solved using a quantum computer in order to show there can be be advantages in using quantum algorithms over probabilistic algorithms."
   ]
  },
  {
   "cell_type": "markdown",
   "metadata": {},
   "source": [
    "Let's start by giving an example of such an $f$.\n",
    "\n",
    "\\begin{align*}\n",
    "\tf(00)&=0\\\\\n",
    "\tf(01)&=1\\\\\n",
    "\tf(10)&=0\\\\\n",
    "\tf(11)&=1\\\\\n",
    "\t\\end{align*}\n",
    "    \n",
    "In this example, $s$ is $01$, as $f(00)=00\\cdot 01=0$, $f(01)=01\\cdot 01 = 1$, $f(10)=10\\cdot01=0$ and $f(11)=11\\cdot01=1$.\n",
    "    \n",
    "  "
   ]
  },
  {
   "cell_type": "markdown",
   "metadata": {},
   "source": [
    "Note that now the unitary operator $U_f$ takes the following form: $ U_f: \\ket{x}\\ket{y} \\mapsto \\ket{x}\\ket{y \\oplus x \\cdot s} $. \n",
    "\n"
   ]
  },
  {
   "cell_type": "markdown",
   "metadata": {},
   "source": [
    "### Task 1\n",
    "\n",
    "- How many queries do we need to make if we are to solve the problem clasically? How many queries if you use a probabilistic algorithm?\n",
    "- How many queries do you think we need to make if we are to solve the problem with a quantum computer ? "
   ]
  },
  {
   "cell_type": "markdown",
   "metadata": {},
   "source": [
    "<a href=\"B93_Bernstein-Vazirani_Solutions.ipynb#task1\">click for our solution</a>"
   ]
  },
  {
   "cell_type": "markdown",
   "metadata": {},
   "source": [
    "### Task 2\n",
    "\n",
    "- What can we say about the $f$ function if $s = 0$?\n",
    "- How can we implement the $U_{f}$ oracle as a quantum circuit?"
   ]
  },
  {
   "cell_type": "markdown",
   "metadata": {},
   "source": [
    "### Algorithm\n",
    "\n",
    "We use exactly the same algorithm as Deutsch-Jozsa.\n",
    "\n",
    "We construct a circuit with $n+1$ qubits. \n",
    "\n",
    "- Set the $n+1$'st qubit to state $\\ket{-}.$\n",
    "- Apply $H$ to first $n$ qubits.\n",
    "- Apply $U_f$.\n",
    "- Apply $H$ to first $n$ qubits.\n",
    "- Measure the first $n$ qubits to obtain $s$.\n",
    "\n",
    " <img src=\"../images/deutschjozsa.png\" width=\"50%\" align=\"center\">\n"
   ]
  },
  {
   "cell_type": "markdown",
   "metadata": {},
   "source": [
    "### Analysis\n",
    "\n",
    "The solution circuit will be the same circuit as the Deutsch-Jozsa circuit. So, we start the same way (with the input qubits, the output qubit and the $H$ gates.\n",
    "\n",
    "$$ \\ket{\\psi_0} = \\ket{0}^{\\otimes n} \\otimes \\ket{-} $$\n",
    "\n",
    "$$ \\ket{\\psi_1} = \\frac{1}{\\sqrt{2^n}}\\sum_{x=0}^{2^n-1} \\ket{x} \\otimes \\ket{-} $$"
   ]
  },
  {
   "cell_type": "markdown",
   "metadata": {},
   "source": [
    "From now on we can ignore the output qubit and focus on our input qubits. After applying $U_f$ we then get the same state:\n",
    "\n",
    "$$ \\ket{\\psi_{2}}= \\frac{1}{\\sqrt{2^n}} \\sum_{x=0}^{2^n-1} (-1)^{f(x)} \\ket{x} $$"
   ]
  },
  {
   "cell_type": "markdown",
   "metadata": {},
   "source": [
    "Let's replace $f(x) = x \\cdot s$, and rewrite our state as follows:\n",
    "\n",
    "$$ \\ket{\\psi_{2}} = \\frac{1}{\\sqrt{2^n}} \\sum_{x=0}^{2^n-1} (-1)^{x \\cdot s} \\ket{x} $$"
   ]
  },
  {
   "cell_type": "markdown",
   "metadata": {},
   "source": [
    "From the previous notebook we know the following expression: $$ H^{\\otimes n} \\ket{x} = \\frac{1}{\\sqrt{2^n}} \\sum_{x=0}^{2^n-1} (-1)^{x \\cdot z} \\ket{z} $$."
   ]
  },
  {
   "cell_type": "markdown",
   "metadata": {},
   "source": [
    "We also know that the $H^{\\otimes n}$ operator is its own inverse. Thus, we can say that $H^{\\otimes n}\\ket{a} = \\ket{b} \\Longleftrightarrow H^{\\otimes n}\\ket{b} = \\ket{a}$. So in fact, $\\ket{\\psi_2}$ is the state obtained after applying $H^{\\otimes n}$ to $\\ket{s}$\n",
    "\n",
    "Hence after applying $H^{\\otimes n}$ to the input qubits, we get the final state as \n",
    "\n",
    "$$\\ket{\\psi_{3}} = \\ket{s}$$. \n",
    "\n",
    "We measure the first $n$ qubits and we observe the string $s$ with probability 1.\n",
    "\n",
    "Note that this is also an exact algorithm without any errors as the algorithms we have seen so far."
   ]
  },
  {
   "cell_type": "markdown",
   "metadata": {},
   "source": [
    "### Task 3\n",
    "\n",
    "Given an oracle function `bv_oracle()` that constructs a 6 qubit oracle circuit ($s$ has lengeh 5) for $f$,construct a circuit that implements the algorithm described above to find out $s$.\n",
    "\n",
    "Run the following cell to load function bv_oracle()"
   ]
  },
  {
   "cell_type": "code",
   "execution_count": 2,
   "metadata": {},
   "outputs": [],
   "source": [
    "%run oracle.py"
   ]
  },
  {
   "cell_type": "code",
   "execution_count": 4,
   "metadata": {},
   "outputs": [
    {
     "data": {
      "image/png": "[encoded data removed]",
      "text/plain": [
       "<Figure size 939.12x445.48 with 1 Axes>"
      ]
     },
     "execution_count": 4,
     "metadata": {},
     "output_type": "execute_result"
    }
   ],
   "source": [
    "from qiskit import QuantumCircuit, execute, Aer\n",
    "\n",
    "n=5  \n",
    "\n",
    "bv_circuit = QuantumCircuit(n+1, n)\n",
    "\n",
    "#Your code here\n",
    "\n",
    "bv_circuit.draw(output=\"mpl\")"
   ]
  },
  {
   "cell_type": "code",
   "execution_count": 5,
   "metadata": {},
   "outputs": [
    {
     "name": "stdout",
     "output_type": "stream",
     "text": [
      "{'11010': 10000}\n"
     ]
    }
   ],
   "source": [
    "job = execute(bv_circuit, Aer.get_backend('qasm_simulator'),shots=10000)\n",
    "counts = job.result().get_counts()\n",
    "print(counts)"
   ]
  },
  {
   "cell_type": "markdown",
   "metadata": {},
   "source": [
    "<a href=\"B93_Bernstein-Vazirani_Solutions.ipynb#task3\">click for our solution</a>"
   ]
  },
  {
   "cell_type": "markdown",
   "metadata": {},
   "source": [
    "### Task 4\n",
    "\n",
    "Given $\\textbf{s} = 0110$, implement a function that returns an oracle for the function $f$."
   ]
  },
  {
   "cell_type": "code",
   "execution_count": null,
   "metadata": {},
   "outputs": [],
   "source": [
    "from qiskit import QuantumCircuit\n",
    "\n",
    "def oracle():\n",
    "    \n",
    "    #Your code here"
   ]
  },
  {
   "cell_type": "markdown",
   "metadata": {},
   "source": [
    "<a href=\"B93_Bernstein-Vazirani_Solutions.ipynb#task4\">click for our solution</a>"
   ]
  },
  {
   "cell_type": "markdown",
   "metadata": {},
   "source": [
    "Now finally, we have an algorithm which provides speedup in the query model also against probabilistic algorithms, although not exponential."
   ]
  }
 ],
 "metadata": {
  "kernelspec": {
   "display_name": "Python 3",
   "language": "python",
   "name": "python3"
  },
  "language_info": {
   "codemirror_mode": {
    "name": "ipython",
    "version": 3
   },
   "file_extension": ".py",
   "mimetype": "text/x-python",
   "name": "python",
   "nbconvert_exporter": "python",
   "pygments_lexer": "ipython3",
   "version": "3.7.3"
  }
 },
 "nbformat": 4,
 "nbformat_minor": 4
}
