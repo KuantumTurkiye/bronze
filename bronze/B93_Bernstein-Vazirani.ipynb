{
 "cells": [
  {
   "cell_type": "markdown",
   "metadata": {},
   "source": [
    "<table>\n",
    "    <tr><td align=\"right\" style=\"background-color:#ffffff;\">\n",
    "        <img src=\"../images/LogoQTurkey.png\" width=\"20%\" align=\"right\">\n",
    "    </td></tr>\n",
    "    <tr><td align=\"right\" style=\"color:#777777;background-color:#ffffff;font-size:12px;\">\n",
    "        Prepared by Berat Yenilen | Edited by Utku Birkan<br>\n",
    "        February 15, 2019\n",
    "    </td></tr>\n",
    "    <tr><td align=\"right\" style=\"color:#bbbbbb;background-color:#ffffff;font-size:11px;font-style:italic;\">\n",
    "        This cell contains some macros. If there is a problem with displaying mathematical formulas, please run this cell to load these macros.\n",
    "    </td></tr>\n",
    "</table>\n",
    "$ \\newcommand{\\bra}[1]{\\langle #1|} $\n",
    "$ \\newcommand{\\ket}[1]{|#1\\rangle} $\n",
    "$ \\newcommand{\\braket}[2]{\\langle #1|#2\\rangle} $\n",
    "$ \\newcommand{\\dot}[2]{ #1 \\cdot #2} $\n",
    "$ \\newcommand{\\biginner}[2]{\\left\\langle #1,#2\\right\\rangle} $\n",
    "$ \\newcommand{\\mymatrix}[2]{\\left( \\begin{array}{#1} #2\\end{array} \\right)} $\n",
    "$ \\newcommand{\\myvector}[1]{\\mymatrix{c}{#1}} $\n",
    "$ \\newcommand{\\myrvector}[1]{\\mymatrix{r}{#1}} $\n",
    "$ \\newcommand{\\mypar}[1]{\\left( #1 \\right)} $\n",
    "$ \\newcommand{\\mybigpar}[1]{ \\Big( #1 \\Big)} $\n",
    "$ \\newcommand{\\sqrttwo}{\\frac{1}{\\sqrt{2}}} $\n",
    "$ \\newcommand{\\dsqrttwo}{\\dfrac{1}{\\sqrt{2}}} $\n",
    "$ \\newcommand{\\onehalf}{\\frac{1}{2}} $\n",
    "$ \\newcommand{\\donehalf}{\\dfrac{1}{2}} $\n",
    "$ \\newcommand{\\hadamard}{ \\mymatrix{rr}{ \\sqrttwo & \\sqrttwo \\\\ \\sqrttwo & -\\sqrttwo }} $\n",
    "$ \\newcommand{\\vzero}{\\myvector{1\\\\0}} $\n",
    "$ \\newcommand{\\vone}{\\myvector{0\\\\1}} $\n",
    "$ \\newcommand{\\vhadamardzero}{\\myvector{ \\sqrttwo \\\\  \\sqrttwo } } $\n",
    "$ \\newcommand{\\vhadamardone}{ \\myrvector{ \\sqrttwo \\\\ -\\sqrttwo } } $\n",
    "$ \\newcommand{\\myarray}[2]{ \\begin{array}{#1}#2\\end{array}} $\n",
    "$ \\newcommand{\\X}{ \\mymatrix{cc}{0 & 1 \\\\ 1 & 0}  } $\n",
    "$ \\newcommand{\\Z}{ \\mymatrix{rr}{1 & 0 \\\\ 0 & -1}  } $\n",
    "$ \\newcommand{\\Htwo}{ \\mymatrix{rrrr}{ \\frac{1}{2} & \\frac{1}{2} & \\frac{1}{2} & \\frac{1}{2} \\\\ \\frac{1}{2} & -\\frac{1}{2} & \\frac{1}{2} & -\\frac{1}{2} \\\\ \\frac{1}{2} & \\frac{1}{2} & -\\frac{1}{2} & -\\frac{1}{2} \\\\ \\frac{1}{2} & -\\frac{1}{2} & -\\frac{1}{2} & \\frac{1}{2} } } $\n",
    "$ \\newcommand{\\CNOT}{ \\mymatrix{cccc}{1 & 0 & 0 & 0 \\\\ 0 & 1 & 0 & 0 \\\\ 0 & 0 & 0 & 1 \\\\ 0 & 0 & 1 & 0} } $\n",
    "$ \\newcommand{\\norm}[1]{ \\left\\lVert #1 \\right\\rVert } $"
   ]
  },
  {
   "cell_type": "markdown",
   "metadata": {},
   "source": [
    "### Bernstein-Vazirani Problem\n",
    "\n",
    "In this problem, we are again given an oracle function $f:\\{0,1\\}^n \\rightarrow \\{0,1\\}$, which is defined as: \n",
    "\n",
    "$$ f(\\mathbf{x}) = \\mathbf{x} \\cdot \\mathbf{s} $$\n",
    "\n",
    "and we are asked to find the string $\\mathbf{s}$, where $\\textbf{x} \\cdot \\textbf{s}$ represents the inner product of the bitstrings modulo 2. \n",
    "\n",
    "$$ \\textbf{x}\\cdot \\textbf{s} = \\sum_{i=1}^n x_n s_n \\pmod 2 $$\n",
    "\n",
    "This might come across as a bit of an artificially created problem, because it is. It was specifically designed to be solved using a quantum computer in order to show there can be be advantages in using a quantum computer as a computational tool for more complex problems than the Deutsch-Josza problem."
   ]
  },
  {
   "cell_type": "markdown",
   "metadata": {},
   "source": [
    "### Task 1\n",
    "\n",
    "- How many times do we need to use the oracle if we are to solve the problem clasically? \n",
    "- How many times do you think we need to use the oracle if we are to solve the problem with a quantum computer ? "
   ]
  },
  {
   "cell_type": "markdown",
   "metadata": {},
   "source": [
    "<a href=\"B93_Berstein-Vazirani and Simon's Problems_Solutions.ipynb#task1\">click for our solution</a>"
   ]
  },
  {
   "cell_type": "markdown",
   "metadata": {},
   "source": [
    "### Representing the Function as an Oracle\n",
    "\n",
    "In the Deutsch-Jozsa problem, we mapped a function $f(x)$ to $U_f(\\ket{x}\\otimes\\ket{a}) = \\ket{x}\\otimes\\ket{a\\oplus f(x)}$\n",
    "\n",
    "In this mapping; we can consider the xor'ing with a single bit operation as modulo 2 (since $ 0 \\oplus f(x) = 0 \\oplus f(x) \\pmod 2$ and similarly for 1) and simply consider $ f_s(x) = x \\cdot s $ to be our function to get \n",
    "\n",
    "$$ U_{f_s}(\\ket{x}\\otimes\\ket{a}) = \\ket{x}\\otimes\\ket{a\\oplus x\\cdot s} $$"
   ]
  },
  {
   "cell_type": "markdown",
   "metadata": {},
   "source": [
    "### Task 2\n",
    "\n",
    "- What can we say about the $f_s$ function if $s = 0$?\n",
    "- How can we implement the $U_{f_s}$ oracle as a quantum circuit?"
   ]
  },
  {
   "cell_type": "markdown",
   "metadata": {},
   "source": [
    "### Task 3\n",
    "\n",
    "Given $\\textbf{s} = 0110$, implement a function that returns an oracle for the functin $f_s$."
   ]
  },
  {
   "cell_type": "code",
   "execution_count": null,
   "metadata": {},
   "outputs": [],
   "source": [
    "from qiskit import QuantumCircuit\n",
    "\n",
    "def oracle():\n",
    "    circuit = QuantumCircuit(5)\n",
    "    circuit.barrier()\n",
    "    \n",
    "    circuit.cx(1, 4)\n",
    "    circuit.cx(2, 4)\n",
    "    \n",
    "    circuit.barrier()\n",
    "    return circuit"
   ]
  },
  {
   "cell_type": "markdown",
   "metadata": {},
   "source": [
    "### Task 4\n",
    "\n",
    "- What is the inverse of the $H$ gate?\n",
    "- What is the inverse of tensor product of operators?"
   ]
  },
  {
   "cell_type": "markdown",
   "metadata": {},
   "source": [
    "<h3>Solution to the Problem</h3>\n",
    "\n",
    "The solution circuit will be the same circuit as the Deutsch-Jozsa circuit. So, we start the same way (with the input qubits, the output qubit and the $H$ gates.\n",
    "\n",
    "$$ \\ket{\\psi_0} = \\ket{0}^{\\otimes n} \\otimes \\ket{1} $$\n",
    "$$ \\ket{\\psi_1} = \\frac{1}{\\sqrt{2^n}}\\sum_{x=0}^{2^n-1} \\ket{x} \\otimes \\ket{-} $$\n",
    "\n",
    "From now on; we can ignore the output qubit and focus on our input qubits. We then get the same state:\n",
    "$$ \\ket{\\psi_{2, 0:n-1}} = \\frac{1}{\\sqrt{2^n}} \\sum_{x=0}^{2^n-1} (-1)^{f(x)} \\ket{x} $$\n",
    "\n",
    "Considering we have already established our function to be $f_s(x) = x \\cdot s$, we can rewrite the state as follows:\n",
    "$$ \\ket{\\psi_{2, 0:n-1}} = \\frac{1}{\\sqrt{2^n}} \\sum_{x=0}^{2^n-1} (-1)^{x \\cdot s} \\ket{x} $$\n",
    "\n",
    "From the previous chapter we know the following equality:\n",
    "$$ H^{\\otimes n} \\ket{s} \\frac{1}{\\sqrt{2^n}} \\sum_{x=0}^{2^n-1} (-1)^{x \\cdot s} \\ket{x} $$\n",
    "\n",
    "We also know that the $H^{\\otimes n}$ operator is its own inverse. Thus, we can say that $H^{\\otimes n}\\ket{a} = \\ket{b} \\Longleftrightarrow H^{\\otimes n}\\ket{b} = \\ket{a}$. With that, we can conclude that\n",
    "$$ H^{\\otimes n}\\frac{1}{\\sqrt{2^n}} \\sum_{x=0}^{2^n-1} (-1)^{x \\cdot s} \\ket{x} $$\n",
    "\n",
    "To get the final state of $\\ket{\\psi_{3, 0:n-1}} = \\ket{s}$. We then measure the qubits to observe s 100% of the time."
   ]
  },
  {
   "cell_type": "markdown",
   "metadata": {},
   "source": [
    "### Task 5\n",
    "\n",
    "Given an oracle function `bv_oracle(s)` that constructs an $n+1$ qubit oracle circuit for $f_s$ where `n = len(s)`, construct a circuit that implements the algorithm described above (using s = \"10110\")"
   ]
  },
  {
   "cell_type": "code",
   "execution_count": null,
   "metadata": {},
   "outputs": [],
   "source": [
    "from qiskit import QuantumCircuit, execute, Aer\n",
    "\n",
    "def bv_oracle(s):\n",
    "    n = len(s)\n",
    "    s = s[::-1] # we revert the string since s_0 is at the left according to python \n",
    "    # and in the right according to qiskit\n",
    "    \n",
    "    circuit = QuantumCircuit(n+1)\n",
    "    circuit.barrier()\n",
    "    \n",
    "    for i in range(n):\n",
    "        if s[i] == '1':\n",
    "            circuit.cx(i, n)\n",
    "    \n",
    "    circuit.barrier()\n",
    "    return circuit\n",
    "\n",
    "s = \"10110\"\n",
    "n = len(s)\n",
    "bv_circuit = QuantumCircuit(n+1, n)\n",
    "\n",
    "bv_circuit.x(n)\n",
    "bv_circuit.h(range(n+1))\n",
    "\n",
    "bv_circuit += bv_oracle(s)\n",
    "\n",
    "bv_circuit.h(range(n))\n",
    "bv_circuit.measure(range(n), range(n))\n",
    "\n",
    "bv_circuit.draw(output=\"mpl\")"
   ]
  },
  {
   "cell_type": "code",
   "execution_count": null,
   "metadata": {},
   "outputs": [],
   "source": [
    "job = execute(bv_circuit, Aer.get_backend('qasm_simulator'),shots=10000)\n",
    "counts = job.result().get_counts()\n",
    "print(counts)"
   ]
  },
  {
   "cell_type": "markdown",
   "metadata": {},
   "source": []
  },
  {
   "cell_type": "markdown",
   "metadata": {},
   "source": [
    "ya bu cok duz direkt 2. ve 3. qubit e z gate uyguluyosun oracle oluyo. herhangi bi oracle'i yazmasi da kolay baya bitstringdeki her 1 icin karsilik gelen qubit e z gate uyguluyosun oluo galiba."
   ]
  }
 ],
 "metadata": {
  "kernelspec": {
   "display_name": "Python 3",
   "language": "python",
   "name": "python3"
  },
  "language_info": {
   "codemirror_mode": {
    "name": "ipython",
    "version": 3
   },
   "file_extension": ".py",
   "mimetype": "text/x-python",
   "name": "python",
   "nbconvert_exporter": "python",
   "pygments_lexer": "ipython3",
   "version": "3.6.9"
  }
 },
 "nbformat": 4,
 "nbformat_minor": 4
}
