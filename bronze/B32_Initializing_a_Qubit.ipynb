{
 "cells": [
  {
   "cell_type": "markdown",
   "metadata": {},
   "source": [
    "<table>\n",
    "    <tr><td align=\"right\" style=\"background-color:#ffffff;\">\n",
    "        <img src=\"../images/logo.jpg\" width=\"20%\" align=\"right\">\n",
    "    </td></tr>\n",
    "    <tr><td align=\"right\" style=\"color:#777777;background-color:#ffffff;font-size:12px;\">\n",
    "        Prepared by Abuzer Yakaryilmaz<br>\n",
    "        Utku Birkan | September 16, 2019 (updated)<br>\n",
    "        Özlem Salehi | September 20, 2019 (updated)\n",
    "    </td></tr>\n",
    "    <tr><td align=\"right\" style=\"color:#bbbbbb;background-color:#ffffff;font-size:11px;font-style:italic;\">\n",
    "        This cell contains some macros. If there is a problem with displaying mathematical formulas, please run this cell to load these macros.\n",
    "    </td></tr>\n",
    "</table>\n",
    "$ \\newcommand{\\bra}[1]{\\langle #1|} $\n",
    "$ \\newcommand{\\ket}[1]{|#1\\rangle} $\n",
    "$ \\newcommand{\\braket}[2]{\\langle #1|#2\\rangle} $\n",
    "$ \\newcommand{\\dot}[2]{ #1 \\cdot #2} $\n",
    "$ \\newcommand{\\biginner}[2]{\\left\\langle #1,#2\\right\\rangle} $\n",
    "$ \\newcommand{\\mymatrix}[2]{\\left( \\begin{array}{#1} #2\\end{array} \\right)} $\n",
    "$ \\newcommand{\\myvector}[1]{\\mymatrix{c}{#1}} $\n",
    "$ \\newcommand{\\myrvector}[1]{\\mymatrix{r}{#1}} $\n",
    "$ \\newcommand{\\mypar}[1]{\\left( #1 \\right)} $\n",
    "$ \\newcommand{\\mybigpar}[1]{ \\Big( #1 \\Big)} $\n",
    "$ \\newcommand{\\sqrttwo}{\\frac{1}{\\sqrt{2}}} $\n",
    "$ \\newcommand{\\dsqrttwo}{\\dfrac{1}{\\sqrt{2}}} $\n",
    "$ \\newcommand{\\onehalf}{\\frac{1}{2}} $\n",
    "$ \\newcommand{\\donehalf}{\\dfrac{1}{2}} $\n",
    "$ \\newcommand{\\hadamard}{ \\mymatrix{rr}{ \\sqrttwo & \\sqrttwo \\\\ \\sqrttwo & -\\sqrttwo }} $\n",
    "$ \\newcommand{\\vzero}{\\myvector{1\\\\0}} $\n",
    "$ \\newcommand{\\vone}{\\myvector{0\\\\1}} $\n",
    "$ \\newcommand{\\vhadamardzero}{\\myvector{ \\sqrttwo \\\\  \\sqrttwo } } $\n",
    "$ \\newcommand{\\vhadamardone}{ \\myrvector{ \\sqrttwo \\\\ -\\sqrttwo } } $\n",
    "$ \\newcommand{\\myarray}[2]{ \\begin{array}{#1}#2\\end{array}} $\n",
    "$ \\newcommand{\\X}{ \\mymatrix{cc}{0 & 1 \\\\ 1 & 0}  } $\n",
    "$ \\newcommand{\\Z}{ \\mymatrix{rr}{1 & 0 \\\\ 0 & -1}  } $\n",
    "$ \\newcommand{\\Htwo}{ \\mymatrix{rrrr}{ \\frac{1}{2} & \\frac{1}{2} & \\frac{1}{2} & \\frac{1}{2} \\\\ \\frac{1}{2} & -\\frac{1}{2} & \\frac{1}{2} & -\\frac{1}{2} \\\\ \\frac{1}{2} & \\frac{1}{2} & -\\frac{1}{2} & -\\frac{1}{2} \\\\ \\frac{1}{2} & -\\frac{1}{2} & -\\frac{1}{2} & \\frac{1}{2} } } $\n",
    "$ \\newcommand{\\CNOT}{ \\mymatrix{cccc}{1 & 0 & 0 & 0 \\\\ 0 & 1 & 0 & 0 \\\\ 0 & 0 & 0 & 1 \\\\ 0 & 0 & 1 & 0} } $\n",
    "$ \\newcommand{\\norm}[1]{ \\left\\lVert #1 \\right\\rVert } $"
   ]
  },
  {
   "cell_type": "markdown",
   "metadata": {},
   "source": [
    "<h2> Initializing a qubit with an arbitrary state </h2>"
   ]
  },
  {
   "cell_type": "markdown",
   "metadata": {},
   "source": [
    "\n",
    "Qiskit circuits have a built in method called initialize which allows starting from a specifed state instead of having all qubits start as 0. \n",
    "\n",
    "Note that the state should be a valid quantum state and the length of the vector should match the number of qubits. If not, exception is raised."
   ]
  },
  {
   "cell_type": "markdown",
   "metadata": {},
   "source": [
    "Let's create a quantum circuit with two qubits and initialize it by setting equal probabilities to each outcome."
   ]
  },
  {
   "cell_type": "code",
   "execution_count": 3,
   "metadata": {},
   "outputs": [
    {
     "data": {
      "text/html": [
       "<pre style=\"word-wrap: normal;white-space: pre;background: #fff0;line-height: 1.1;font-family: &quot;Courier New&quot;,Courier,monospace\">         ┌──────────────────────────────┐┌─┐   \n",
       "q2_0: |0>┤0                             ├┤M├───\n",
       "         │  initialize(0.5,0.5,0.5,0.5) │└╥┘┌─┐\n",
       "q2_1: |0>┤1                             ├─╫─┤M├\n",
       "         └──────────────────────────────┘ ║ └╥┘\n",
       " c2_0: 0 ═════════════════════════════════╩══╬═\n",
       "                                             ║ \n",
       " c2_1: 0 ════════════════════════════════════╩═\n",
       "                                               </pre>"
      ],
      "text/plain": [
       "<qiskit.visualization.text.TextDrawing at 0x1d0441d86d8>"
      ]
     },
     "execution_count": 3,
     "metadata": {},
     "output_type": "execute_result"
    }
   ],
   "source": [
    "from qiskit import QuantumRegister, ClassicalRegister, QuantumCircuit, execute, Aer\n",
    "from math import pi\n",
    "\n",
    "# we define a quantum circuit with two qubits and two bits\n",
    "qreg1 =  QuantumRegister(2) # quantum register with two qubits\n",
    "creg1 = ClassicalRegister(2) # classical register with two bits\n",
    "mycircuit1 = QuantumCircuit(qreg1,creg1) # quantum circuit with quantum and classical registers\n",
    "\n",
    "# initialization\n",
    "init_state=[1/2,1/2,1/2,1/2]\n",
    "mycircuit1.initialize(init_state,qreg1)\n",
    "\n",
    "# measure the qubits\n",
    "mycircuit1.measure(qreg1,creg1)\n",
    "\n",
    "# draw the circuitdata:image/png;base64,iVBORw0KGgoAAAANSUhEUgAAAUIAAACoCAYAAACVBefMAAAABHNCSVQICAgIfAhkiAAAAAlwSFlzAAALEgAACxIB0t1+/AAAADl0RVh0U29mdHdhcmUAbWF0cGxvdGxpYiB2ZXJzaW9uIDMuMC4zLCBodHRwOi8vbWF0cGxvdGxpYi5vcmcvnQurowAAGHNJREFUeJzt3XlYVfXe9/H3BmGDDDIYyqAgMggKiOCYiogZHjnp400ZpmmmcPtoHcvKqekuM9Q8ZvcpH4cMi0pLMz1lKipoRankwXAkNBAUNUVlEBQ2PH8YxBYUUGDBXt/Xde3rcq/ht75L4eNvTb+lqaioqEAIIVTMSOkChBBCaRKEQgjVkyAUQqieBKEQQvUkCIUQqidBKIRQPQlCIYTqSRAKIVRPglAIoXoShEII1ZMgFEKongShEEL1JAiFEKonQSiEUD0JQiGE6kkQCiFUT4JQCKF6EoRCCNWTIBRCqJ4EoRBC9SQIhRCqJ0EohFA9CUIhhOpJEAohVE+CUAihehKEQgjVa6N0AYbq5B4ouKh0FaIlsHIA76FKVyHuRoKwiRRchKs5SlchmsJDL2oU2W5FRYUi21UDOTQWQqieBKEQQvUkCIUQqidBKIRQPQlCIYTqSRAKIVRPbp8RoomZmJjg6+vLAw88QEVFBTk5OaSnp9/xdhhHR0dGjBjB2rVrm7lS9ZIg/FNOTg6LFy8mJSWF1NRUiouLSUtLo0ePHkqXJlohU1NTIiMjiY6Opl+/fmi1Wr35BQUF7NmzhxUrVrBz586qUHR0dCQxMRFvb2/Kysr4+OOPlShfdeTQ+E8ZGRls2LABGxsbQkJClC5HtGJhYWGcPHmSTz/9lJCQELRaLenp6ezatYs9e/aQnZ2NlZUVo0aNYvv27ezfvx9fX1+9EExNTeWbb75ReldUQ3qEfxo8eDAXLlwAIC4uju3btzf5NnXlOj7cNoedKXHcLCshyHM4MyNX0s6ifZNvWzSNt956i3nz5gFw5MgR3nvvPb744guuXbumt5yTkxNPPvkkM2bMoHfv3hw6dIi8vDwcHR1JTU0lLCyMvLw8JXZBlVTRIywvL+edd97B09MTMzMzAgIC2Lt3L97e3kRHRwNgZNT8fxXrE2NJPrqF/31mP5/Pv/U83qLPJzR7HaJxLFq0iHnz5lFaWsr8+fMJDAxk9erVNUIQ4Ny5c8TGxuLj40N8fDxarRZHR0eysrIkBBWgih7h5MmT2bx5M6+88gpBQUEkJycTFRXFH3/8wfPPP69YXdt+XsX4h17F0d4dgKkjFzNxkQfn8zLpaOemWF2i4R555BFeeuklSktLGTNmTL0Pay0tLendu3fV9w4dOuDg4CBB2MwMvkf42WefsW7dOrZu3coLL7xAaGgo8+fPp3///pSVlREUFNSg9i5cuMDw4cNp27YtAQEB/Oc//7mnuoqKr3Hx6hk8nf/avlP7rrQ1s+Z07q/31KZQRrt27Vi5ciUAs2bNqncI3n5OMD4+HjMzMz766KOmLFfUwuCD8O233yY8PLzGBRAPDw9MTEzw8/NrUHvTpk2jW7duXL58menTpxMZGYlOp2twXUU38gGwMG+nN93SzIbrJfkNbk8o56mnnqJjx44kJyfzr3/9q17r3B6CYWFhTJ8+ndzcXPr160doaGiNdTQajXwa+Kkvgw7CnJwcjhw5wqOPPlpj3pkzZ+jevXuN2xrupqCggG+//ZZXX30Vc3NzoqOj0el0/Pzzzw2ura3WCrjVM6yusOQqbc2sG9yeUM60adOAW+cI6zNUVm0hmJeXR35+PitWrNBrUzQPgw9CgI4dO+pNLy4uZu/evQ0+LP7tt9+wt7enffu/rur6+flx7NixBtdmaW6Dg01nMs4eqpqWe/k010vycXf0b3B7QhkuLi54eXlx5coVvv322zqXv1MIVqq8bzAsLKzGuhUVFfJp4Ke+DDoIKwMrPT1db/rixYvJzc2lV69eDWqvqKgIa2v93pq1tTWFhYX3VN/f+kWzIWkRuXm/U1SSz+ptswn2erhFXSjZcTCOWSuG3Hc7uw99Ssw/A+6/oBam8mcoJSWlzlMkdYUgQFZWFhcvXsTOzg43N7emKlvcxqCvGru7u+Pv78/ChQuxs7PD2dmZjRs3sm3bNoAaPcKNGzcCt36oARISEjhx4gQWFhaMGDECCwsLCgoK9NbJz8/H0tLynup7PHQOhdevMGN5b0p1N+jl+RBzxsXfU1stXVivJwjr9YTSZTQ6Z2dnAE6dOnXX5eoTgpUyMjJwcHDAycmJzMzMxi5Z1EJTYeDjf6enpxMTE8OBAwewt7dn4sSJWFlZMX/+fPLz8zE3N69a9k4nV11dXcnMzKSgoID27dtz7tw57O3tAejSpQvx8fE8+OCDeuukrDeMofp3HIxjZ0ocS6clNWq7Vwov0q5te0Xu37xf1YfqNzY2xsLCgvLy8rseGXh7e5OUlMT58+frvE+wXbt26HQ6ioqK9A7vDPxXVVEG3SME8PLyIjExUW/ahAkT8PHx0QtBqPsHzcrKipEjR/Lmm28SGxtLfHw8Go2Gfv36NXrdLdHHO18n7ffvcXf0J+GXj9GamDNqwAweHzoHgILrV1i2KZrUjD3oystwaNeJZ8eswM99EDsOxvHZ7gWsm5MBwM6DcXz1/TJCAsYyNHAc3Tr3UXLX7plOpyM/v+6r/CdPniQkJIRLly7VeY9gbTdgi6Zl8EFYm5SUlHsOrxUrVjB+/HhsbW3x9PRk06ZNGBsbN3KFLVfa6X0EeT7Ehldy+f18GvPXjMDB1pWhgVF8sXcJN25e59N5WZiZWnD20m8YG5vU2s7Y0JcI8nqIxNT1vBU/FiMjY0J7RhEaGIVrB99m3qvmcfu5atFytL7jkvtUWFhIenp6gy+UVOrQoQMJCQkUFxfz66+/EhgY2MgVtmx21o6MDZ2NSRtTvFyC+Fu/aHYcvHUDsImxKfnXL5P9x0kqKipwecALR7sud2zLwzmQqSMX8cm835n9+CcU3cjnpVXDiPlnT/b9urG5dkkI9fUILS0t7+kGaHFLB1tXvXOpHWzd+CHtKwAeHfIiZbpSlqyfyOWCXPr5RDB15GJsrTrU2W4nh250dQwg6/xRTmYf4NI1AzjBKloN1QWhuD8XrmRRUVFRFYYXrmTSvp0LAOamFkwe8RaTR7xFXv55Yj8fz6pvXmR2VO1j6hWV5JN8dAt7D28g7fQ+Aj3CGNkvhjcn/xutiXmt6wjRFCQIRYPk5efyRdIS/mvwc2SeP8K2/av577//E4Cfjv0bJ3sPXB7wwlxriamJGcbGtf+IbT+wlve3PIuv6wBCA6OYG/VpjccNhWguEoSiQfy6DCKvIJfH3uiIaRsz/s/AfzA0cBwAuZdP8f+2Pkdefi6mJuYEeITy9N9ia22nW+e+fDz3NLaWDs1ZvhC1kiAUDaLRGDHtkWVMe2RZjXljBs1kzKCZta73cO9JPNx7UtV3t47dm6pEIRpMdVeNhRDidtIjFHfV1aknw4MnKV1Gi5KwpGFPeFypOMcv5d8QOzuaOYtWARA7O7opShP3SIJQ3JWHc088nHsC8OTw15UtRogmIofGQgjVkyAUQqieBKEQQvXkHKGB2XEwjvWJbzPzv1YR0DWEL5KWkHx0Cx1sXXlxbBxtqg2C8PHO1/nxyGYszW3p7/sIkSG1v9Hv0rVzLPp8PDfLSpg4/A16eQ3Tmz/qlXZ4ON165vq1iV9h3dau1naUquXltREUFl/l3ek/1PG3J9RKgtAAPRryIgFdQ7ha+AeppxJ5d/oPrE9cxI9HviYkQP/9LTERS2uEye02JMYyKXwB7o7+vLw2osbyXTr61TleoZK1LJj8DTPfH3jXdoW6yaGxATuZfYAA9yEA9PIcxvEzNV8ytWbbbF5aOYyMs6l3bOd07q/4uvbHXGtJW60V10v0R+k+c/E4z30wiDXb5txxTMeWVIsQt5MgNGCFxX+9Ec/CrB2FxVf05o8e+CwfzPyFZ8es4P0tz9yxnfIKXdUgC7W1Ezf7N/45bR+F16/w07F/t/hahLidBKEBszT/6x3J10vysTSz0ZtfeS7P5QHPu7ZjpPlr4NmiG/lYmNdsR6PRMKDHaDLPH2nxtQhxOwlCA+bVqTe/nt4LwKHfduHjqj8qd9GfwXSt6BI6XRkA10sKqqZXcnf051jmTxTfLOJ6ST4W1d67XHyzCF35rfEdj2b+iJN9VwAuXTvbYmoRoi5yscSA2Vo64Oc+mJnvD8TBpnPVgAj/+voZZoz+X1Z/8yK/nz9CRUV51SgxSYc3oDUx13vj3GNDXmLx+ie5UVrMk8P/B7h1dbqLox9GGmOWfjkZM1MLHO3cq+a//dkTehctlKxFiLoY/FvslKLUW+z2/bqR9YmxxEQsJaBrSIPX/3DbXB4PnXNfYwPmF11m8w/vMfHh+wuixqgF4OW1EZiamPPqhC/vq517Jc8at3wShE3EUF7nKe6fBGHLJ+cIhRCqJ0EohFA9uVgihEpUf/tgc2ktZ96kRyiEUD0JQiGE6kkQCiFUT4JQCKF6EoRCCNWTIBRCqJ4EoRCiUbRrd3+PQipJ7iMUQuhxd3dn9OjRBAcH4+XlhampKQUFBaSlpbF//36++uorrl27preOp6cniYmJLFu2jKVLlypU+b2THmE1OTk5PPvsswwYMIC2bdui0Wg4ckTGtBPqEBgYyHfffcepU6dYunQpUVFRBAUF4efnx4ABA4iJiWHt2rWcPXuWDz74AHt7e+BWCCYlJeHs7MzIkSMxNjauY0stjwRhNRkZGWzYsAEbGxtCQho+cosQrZGRkRGvv/46Bw4cIDw8nOLiYj755BOmTJlC37598ff3JzQ0lOeff57du3djYWHBtGnTOHr0KDExMSQlJeHk5ERiYiIRERHodDqld6nB5NC4msGDB3PhwgUA4uLi2L59e5NuLzF1PVuT3+f0ucOUlF5nx6KyJt2eELczMjJi3bp1jB8/HoDly5fzxhtvkJeXV2PZpKQkli1bho+PDx988AFDhgxhxYoVaDSaqhC8fv16c+9Co1BNj7C8vJx33nkHT09PzMzMCAgIYO/evXh7exMdfWtIJCOj5v3rsDS35e/9/y/THnm3WbcrRKXY2FjGjx9PQUEBw4YNY+bMmbWGYHXHjx8nJiaG/Px8NBoNFRUVLFu2rNWGIKgoCCdPnsybb75JTEwM3333HY899hhRUVGcPn2aoKAgRWrq7f0wQwOjcLR3V2T7Qt0efPBBZs2aRVlZGREREezevbte61VeGLG2tiYzMxONRsP777+PtbV13Su3UKoIws8++4x169axdetWXnjhBUJDQ5k/fz79+/enrKyswUH42muv4evri5GRERs3bmyiqoWhqT76i0ajafbP7ZYvX46RkRGxsbHs27evXvtQeWGk8pygv78/+/fvp1OnTsyePbvWfVbyU1+qCMK3336b8PDwGhdAPDw8MDExwc/Pr0HteXp6snz5cvr06dOYZQrRbPr27UtQUBCXLl1iwYIF9Vrn9hCMiIigoKCA5557DoApU6ZgamralGU3GYMPwpycHI4cOcKjjz5aY96ZM2fo3r07Wq22QW2OHz+ehx56CDMzs8YqU6hA9bH5Kioqmv1TXVRUFABr167lxo0bddZeWwhWnhP86aefOHz4MA4ODgwdOrTGPiv5qS9VBCFAx44d9aYXFxezd+9exc4PCqGk4OBgABISEupc9m4hWGnXrl167bY2Bh+E7du3ByA9PV1v+uLFi8nNzaVXr15KlAWArlzHzdISSstuAnCztISbpSWtZlRf0Xp1794dgMOHD991ufqEIEBqaqpeu62Nwd9H6O7ujr+/PwsXLsTOzg5nZ2c2btzItm3bAGr0CCsvfqSkpAC3/sc8ceIEFhYWjBgxolFr2/XLJ7zzxVNV30fOMwfgk7m/09HOrVG3JUR1S5YswcLCos5bZT7//PM6QxDg0KFDLFiwgLS0tKYot8mp4nWe6enpxMTEcODAAezt7Zk4cSJWVlbMnz+f/Px8zM3Nq5a905UmV1dXMjMz9aYNGTKEGTNmEBkZWWN5eZ2nqNRSXud5L+8s6datG6+99hpPP/30Pd0n2FrixeB7hABeXl4kJibqTZswYQI+Pj56IQj1+4crLS1Fp9NRXl5OaWkpJSUlaLVaRV6OI0RTOnHiRNWFFUNm8OcI7yQlJeWeL5RMnToVc3Nzvv/+e8aNG4e5uTlZWVmNXKEQormoMggLCwtJT0+/5wslcXFxNS7Tu7m5NW6RQohmo4pD49tZWlq2yhEyhBBNQ5U9QiGEqE6CUAihehKEQgjVkyAUQqieBKEQQvVUedW4OVg5KF2BaCnOnLmsdAlAw5/yqP4UjJJPxDQHCcIm4j207mWEOmxc9JPSJYg6yKGxEEL1JAiFEKonQSiEUD0JQiGE6kkQCiFUT4JQCKF6EoRCCNWTIBRCqJ4EoRBC9SQIhRCqJ0EohFA9CUIhhOpJEAohVE+CUAihehKEQgjVkyBUiezsbMLCwvDx8aFHjx7MnTtX6ZJEPSUlJdG9e3c8PDyYMmVKq3gV7TPPPIOLiwtt2rSOIU8lCFWiTZs2LFq0iOPHj3Po0CGSk5PZsmWL0mWJOpSXlzNlyhS+/PJLMjIyyM/PJz4+Xumy6jR27Fh++eUXpcuoNwlClXB0dCQ4OBgAU1NT/P39OXPmjMJVibocPHgQJycnfH19AXj66afZtGmTwlXVbeDAgXTo0EHpMuqtdfRbRaO6fPkyX3/9NQkJCUqXYrC++DaJ3Iv67ypZ/tGmWv/s592FoQN61dpOTk4OnTp1qvreuXNnsrOzG7naWzKyzvLtnp9rTK+t7jbGxjz12AjammmbpJbmJkGoMjdu3CAyMpKZM2fSrVs3pcsxWEE9vFi9/hu9adWDsfLPJm2M6dXD647tVFRUoNFo9L43FffOThgbGZFz/g+96bXVHdq/p8GEIMihsarodDqeeOIJAgMDmTVrltLlGLSurk5093Krc7mQvj2xsba84/xOnTrpncLIzs7GxcWlMUqswUijISKsf53LWVmYM6RvzyapQSkShEB8fDwxMTEEBwej1WrRaDTExcUpXVaji46OxsrKiqVLlypdiir8bUg/jI3v/CvWzsqCwX0D7tpGcHAwZ8+e5dixYwB8+OGHjBkzplHrrM7NpSP+3dzvuszDIX3Qak2brAYlSBACL7/8MqtWrSIrKwtHR0ely2kSP/74I2vXriUlJYXAwEB69uzJe++9BzTt4Zaa2dtaMzDY747zw0P6YGpy97NTxsbGrF69msjISLp27YqlpSUTJkxo7FL1jBjSlzbGxrXOc+7Q/q6H8pViYmJwcXFBp9Ph4uLC9OnTG7vMRqWpkN8Cdu3ahaenJ66ursTGxjJ37lw++ugjJk2apHRpzeLzrbuxt7Fm+ODeSpdicEpu3OSdVRsovF6sN72TowPTJozCqNr5v5Zkx76DJP70nxrTY8b9nS6dDK+zoIoe4ZYtW4iIiMDBwQGtVourqyvjxo0jLS0NgGHDhuHq6qpwlco4d+ESh4+fwshIFT8Kzc5Ma8rwQcE1pv89rH+LDUGAIf16YmXZVm+an7e7QYYgGHgQlpWV8fjjjzN69GgOHz7MmDFj+Mc//kFgYCCbNm3i7NmzSpeouN3JhzDTmvJgcA+lSzFYwf7edHzArup7T18POju37HvstKYmhA/uU/W9jbExI4b0ucsarZtB3z4zY8YMNmzYwNSpU1m2bBkWFhZV87Kzs7GxsVGwur/MWbRK6RL4n+XrlC5BNVKPZZB6LEPpMhqkTKdj8cr1SpfRYLGzo+u1nMEG4ffff8/KlSsJDw9n5cqVevdiAXo3qQoh1M1gg/Ddd98FIDY2tkYItjT1/V+rMZ27cIn34r5i2INBDBsY1OzbV6O8awVYmpthamqidCkNcuHSFTq0t1W6jCZlsEGYkJCAm5sbAQF3v0+rJVDy0HjXj7+w68fW83C8EA1R306GQV4suXr1KgUFBbi5uSldihCiFTDIHmHlrZEXL15UuJL6ae5D40827+RU1jlm/3cU5gb0vKgQ98oge4S2trZ07dqV48ePs2vXrhrzT548qUBVLcO5C5c4mp7JwGA/CUEh/mSQPUKAhQsXMnbsWMLDwxk1ahQeHh5cvHiR5ORkfH192bx5c9Wya9as4YcffgCousl6zZo1JCUlAbfGVpsyZUqz70NTyLtagJ2Nldw3KEQ1Bv2I3Y4dO1iyZAkHDx6kpKQEBwcH+vTpw8yZMxk0aFDVcpMmTWLdujvfRzdx4kSDGoShvLxcniQRohqDDkIhhKgP6RYIIVRPglAIoXoShEII1ZMgFEKongShEEL1JAiFEKonQSiEUD0JQiGE6kkQCiFUT4JQCKF6EoRCCNWTIBRCqJ4EoRBC9SQIhRCqJ0EohFA9CUIhhOpJEAohVE+CUAihehKEQgjVkyAUQqieBKEQQvUkCIUQqidBKIRQPQlCIYTqSRAKIVRPglAIoXoShEII1fv/eeksupMEPhkAAAAASUVORK5CYII=\n",
    "mycircuit1.draw()"
   ]
  },
  {
   "cell_type": "code",
   "execution_count": null,
   "metadata": {},
   "outputs": [],
   "source": [
    "# execute the program 1000 times\n",
    "job = execute(mycircuit1,Aer.get_backend('qasm_simulator'),shots=1000)\n",
    "\n",
    "# print the results\n",
    "counts = job.result().get_counts(mycircuit1)\n",
    "print(counts) # counts is a dictionary"
   ]
  },
  {
   "cell_type": "markdown",
   "metadata": {},
   "source": [
    "<h3>Task 1</h3>\n",
    "\n",
    "Create a quantum circuit with a single qubit. Use the function you have written for creating random quantum states in the notebook <a href=\"../B28_Quantum_State.ipynb\">Quantum States</a> and initilize your qubit to a random state. Use statevector simulator to check if you are successful.\n",
    "\n"
   ]
  },
  {
   "cell_type": "code",
   "execution_count": null,
   "metadata": {},
   "outputs": [],
   "source": [
    "%load randqstate.py\n"
   ]
  },
  {
   "cell_type": "code",
   "execution_count": null,
   "metadata": {},
   "outputs": [],
   "source": [
    "from qiskit import QuantumRegister, ClassicalRegister, QuantumCircuit, execute, Aer\n",
    "\n",
    "#\n",
    "# Your code here\n",
    "#"
   ]
  },
  {
   "cell_type": "markdown",
   "metadata": {},
   "source": [
    "<a href=\"B32_Initializing_a_Qubit_Solutions.ipynb#task1\">click for our solution</a>"
   ]
  },
  {
   "cell_type": "markdown",
   "metadata": {},
   "source": [
    "### Task 2\n",
    "\n",
    "Create a quantum circuit with a single qubit. Choose a random angle $\\theta$ and use the function you have written for creating random quantum states in the notebook <a href=\"../B30_Visualization_of_a_Qubit.ipynb\">Visualization of a Qubit</a>. Use statevector simulator to check if you are successful."
   ]
  },
  {
   "cell_type": "code",
   "execution_count": null,
   "metadata": {},
   "outputs": [],
   "source": [
    "%load randqstate2.py\n"
   ]
  },
  {
   "cell_type": "code",
   "execution_count": null,
   "metadata": {},
   "outputs": [],
   "source": [
    "from qiskit import QuantumRegister, ClassicalRegister, QuantumCircuit, execute, Aer\n",
    "from math import pi\n",
    "\n",
    "#\n",
    "# Your code here\n",
    "#"
   ]
  },
  {
   "cell_type": "markdown",
   "metadata": {},
   "source": [
    "<a href=\"B32_Initializing_a_Qubit_Solutions.ipynb#task2\">click for our solution</a>"
   ]
  }
 ],
 "metadata": {
  "kernelspec": {
   "display_name": "Python 3",
   "language": "python",
   "name": "python3"
  },
  "language_info": {
   "codemirror_mode": {
    "name": "ipython",
    "version": 3
   },
   "file_extension": ".py",
   "mimetype": "text/x-python",
   "name": "python",
   "nbconvert_exporter": "python",
   "pygments_lexer": "ipython3",
   "version": "3.6.9"
  }
 },
 "nbformat": 4,
 "nbformat_minor": 4
}
